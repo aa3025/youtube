{
  "nbformat": 4,
  "nbformat_minor": 0,
  "metadata": {
    "colab": {
      "provenance": [],
      "include_colab_link": true
    },
    "kernelspec": {
      "name": "python3",
      "display_name": "Python 3"
    }
  },
  "cells": [
    {
      "cell_type": "markdown",
      "metadata": {
        "id": "view-in-github",
        "colab_type": "text"
      },
      "source": [
        "<a href=\"https://colab.research.google.com/github/aa3025/youtube/blob/main/Youtube_Downloader.ipynb\" target=\"_parent\"><img src=\"https://colab.research.google.com/assets/colab-badge.svg\" alt=\"Open In Colab\"/></a>"
      ]
    },
    {
      "cell_type": "markdown",
      "source": [
        "**Instructions:**\n",
        "1. Paste Playlist URL from Youtube to \"url:\" field\n",
        "2. If you dont need the whole playlist, enter numbers into \"playlist_start\" and \"playlist_end\" fields and untick \"download_full_playlist\"\n",
        "3. If you want to download videos, tick \"download_videos\", otherwise only audio MP3 will be saved.\n",
        "4. Enter text to \"playlist_album\" and \"playlist_artist\" to tag MP3 files after downloading.\n",
        "5. All downloaded files will be saved to zip archive named \"playlist_album\", at the end you will be prompted to download this zip file. \n",
        "6. If necessary, you can download each file individually from file browser (see Files on the left)\n",
        "7. When archive is downloaded, you can clean the files by running the last cell.\n",
        "8. Be patient, downloading zip file takes time. You can check the progress in the output."
      ],
      "metadata": {
        "id": "WrpM1kGLTjZp"
      }
    },
    {
      "cell_type": "code",
      "source": [
        "#@title Video + Playlist Downloader { vertical-output: true }\n",
        "url = \"https://youtube.com/playlist?list=PLiN-7mukU_REPaZRXd62NKx1zoFXLnIRe\" #@param {type:\"string\"}\n",
        "# max_filesize_mb = 1000 #@param { type: 'slider', min: 1, max: 1000}\n",
        "playlist_start = 1 #@param { type: 'number' }\n",
        "playlist_end = 12 #@param { type: 'number' }\n",
        "\n",
        "quality = \"160K\" #@param { type: \"string\" }\n",
        "playlist_album = \"Blade Runner\" #@param { type: \"string\" }\n",
        "playlist_artist = \"Vangelis\" #@param { type: \"string\" }\n",
        "download_videos = False #@param { type: 'boolean' }\n",
        "\n",
        "remove_everything = True #@param { type: 'boolean' }\n",
        "download_full_playlist= True #@param { type: 'boolean' }\n",
        "start_downloading_immediately = True #@param { type: 'boolean' }\n",
        "\n",
        "title=playlist_album.replace(\" \", \"_\") + \".zip\"\n",
        "\n",
        "\n",
        "!pip install yt-dlp\n",
        "!pip install mutagen\n",
        "\n",
        "if remove_everything:\n",
        "    ! rm -rf *\n",
        "\n",
        "import google\n",
        "\n",
        "#Download videos?:###############\n",
        "\n",
        "if download_videos:\n",
        "    if download_full_playlist:\n",
        "        ! yt-dlp {url} --format 18\n",
        "    else:\n",
        "        ! yt-dlp {url} --playlist-start {playlist_start} --playlist-end {playlist_end} --format 18\n",
        "else:\n",
        "    if download_full_playlist:\n",
        "        ! yt-dlp {url} --ignore-errors --format bestaudio --extract-audio --audio-format mp3 --audio-quality {quality} --output \"%(playlist_index)s - %(title)s.%(ext)s\" --yes-playlist\n",
        "    else:\n",
        "        ! yt-dlp {url} --ignore-errors --format bestaudio --extract-audio --audio-format mp3 --audio-quality {quality} --output \"%(playlist_index)s - %(title)s.%(ext)s\" --playlist-start {playlist_start} --playlist-end {playlist_end} --yes-playlist\n",
        "  \n",
        "\n",
        "\n",
        "# TAGGING MP3s ###################################\n",
        "\n",
        "from mutagen.mp3 import MP3  \n",
        "from mutagen.easyid3 import EasyID3  \n",
        "import mutagen.id3  \n",
        "from mutagen.id3 import ID3, TIT2, TIT3, TALB, TPE1, TRCK, TYER  \n",
        "  \n",
        "import glob  \n",
        "import numpy as np  \n",
        "\n",
        "\n",
        "filez = glob.glob(\"*.mp3\")  \n",
        "  \n",
        "for i in np.arange(0, len (filez)):  \n",
        "\t# extract the length of the directory  \n",
        "\tlength_directory = len(filez[i].split(\"/\"))  \n",
        "\t# extract the track number from the last element of the file path  \n",
        "\ttracknum = filez[i].split(\"/\")[length_directory-1][0:2]  \n",
        "\t# mp3 name (with directory) from filez  \n",
        "\tsong = filez[i]  \n",
        "\t# turn it into an mp3 object using the mutagen library  \n",
        "\tmp3file = MP3(song, ID3=EasyID3)  \n",
        "\t# set the album name  \n",
        "\tmp3file['album'] = [playlist_album]  \n",
        "\t# set the albumartist name  \n",
        "\tmp3file['albumartist'] = [playlist_artist]  \n",
        "\t# set the track number with the proper format  \n",
        "\tmp3file['tracknumber'] = str(tracknum) + '/' + str(len(filez))  \n",
        "\t# save the changes that we've made  \n",
        "\tmp3file.save()   \n",
        "\n",
        "########### Zipping and Downloading #################\n",
        "! zip {title} *\n",
        "\n",
        "if start_downloading_immediately:\n",
        "    google.colab.files.download(title)"
      ],
      "metadata": {
        "id": "mdssEnb09S6v"
      },
      "execution_count": null,
      "outputs": []
    },
    {
      "cell_type": "code",
      "source": [
        "# Clean up (after downloading mp3s and or zip)\n",
        "! rm -f *"
      ],
      "metadata": {
        "id": "n1J_wMfA2XTk"
      },
      "execution_count": null,
      "outputs": []
    }
  ]
}